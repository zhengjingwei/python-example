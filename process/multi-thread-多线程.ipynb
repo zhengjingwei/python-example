{
 "cells": [
  {
   "cell_type": "markdown",
   "metadata": {},
   "source": [
    "# 多线程\n",
    "\n",
    "不必让所有代码等待直到`time.sleep`函数完成，可以使用Python的threading模块，在单独的线程中执行延迟或者安排的代码。这个单独的线程将因为time.sleep()调用而暂停。同时，程序可以在原来的线程中做其他工作。\n",
    "\n",
    "这意味着我们要在新线程中调用的函数是`wantSleep()`。请注意，关键字参数是`target=wantSleep`，\n",
    "而不是`target=takeANap()`。这是因为你想将`wantSleep()`函数本身作为参数，而不是调用`wantSleep()`，并传入它的返回值。"
   ]
  },
  {
   "cell_type": "code",
   "execution_count": 3,
   "metadata": {},
   "outputs": [
    {
     "name": "stdout",
     "output_type": "stream",
     "text": [
      "start of program\n",
      "end of program\n",
      "Wake up\n"
     ]
    }
   ],
   "source": [
    "import threading\n",
    "import time\n",
    "\n",
    "print('start of program')\n",
    "\n",
    "def wantSleep():\n",
    "    time.sleep(3)\n",
    "    print('Wake up')\n",
    "    \n",
    "# 生成Thread对象得到单独的线程\n",
    "threadObj = threading.Thread(target=wantSleep) \n",
    "threadObj.start()\n",
    "\n",
    "print('end of program')"
   ]
  },
  {
   "cell_type": "markdown",
   "metadata": {},
   "source": [
    "## 向进程的目标函数传递参数\n",
    "\n",
    "该print()调用有3 个常规参数：'Cats'、 'Dogs'和'Frogs'，以及一个关键字参数：sep=' & '。常规参数可以作为一个列表，传递给threading.Thread()中的args 关键字参数。关键字参数可以作为一个字典，传递给threading.Thread()中的kwargs 关键字参数。"
   ]
  },
  {
   "cell_type": "code",
   "execution_count": 8,
   "metadata": {},
   "outputs": [
    {
     "name": "stdout",
     "output_type": "stream",
     "text": [
      "Cats & Dogs & Frogs\n"
     ]
    }
   ],
   "source": [
    "threadObj = threading.Thread(target=print, args=['Cats','Dogs','Frogs'], kwargs={'sep':' & '})\n",
    "threadObj.start()"
   ]
  },
  {
   "cell_type": "markdown",
   "metadata": {},
   "source": [
    "下面创建新线程调用print()的方法是不正确的：\n",
    "```python\n",
    "threadObj = threading.Thread(target=print('Cats', 'Dogs', 'Frogs', sep=' & '))\n",
    "```\n",
    "这行代码最终会调用print()函数，将它的返回值（print()的返回值总是无）作为\n",
    "target 关键字参数。它没有传递print()函数本身。如果要向新线程中的函数传递参数，\n",
    "就使用threading.Thread()函数的args 和kwargs 关键字参数。"
   ]
  },
  {
   "cell_type": "markdown",
   "metadata": {},
   "source": [
    "# 并发"
   ]
  },
  {
   "cell_type": "markdown",
   "metadata": {},
   "source": [
    "主线程正常执行，同时我们创建的其他线程下载漫画。但是假定主线程中有一\n",
    "些代码，你希望所有下载线程完成后再执行。调用Thread 对象join()方法将阻塞，\n",
    "直到该线程完成。利用一个for 循环，遍历downloadThreads 列表中的所有Thread\n",
    "对象，主线程可以调用其他每个线程的join()方法。"
   ]
  },
  {
   "cell_type": "code",
   "execution_count": 13,
   "metadata": {},
   "outputs": [
    {
     "name": "stdout",
     "output_type": "stream",
     "text": [
      "Downloading page http://xkcd.com/0...\n",
      "Downloading page http://xkcd.com/100...\n",
      "Downloading page http://xkcd.com/200...\n",
      "Downloading page http://xkcd.com/300...\n",
      "Downloading page http://xkcd.com/400...\n",
      "Downloading page http://xkcd.com/500...\n",
      "Downloading page http://xkcd.com/600...\n",
      "Downloading page http://xkcd.com/700...Downloading page http://xkcd.com/800...\n",
      "\n",
      "Downloading page http://xkcd.com/900...\n",
      "Downloading page http://xkcd.com/1000...\n",
      "Downloading page http://xkcd.com/1100...\n",
      "Downloading page http://xkcd.com/1200...\n",
      "Downloading page http://xkcd.com/1300...\n"
     ]
    },
    {
     "name": "stderr",
     "output_type": "stream",
     "text": [
      "/home/zjw/anaconda3/lib/python3.6/site-packages/bs4/__init__.py:181: UserWarning: No parser was explicitly specified, so I'm using the best available HTML parser for this system (\"lxml\"). This usually isn't a problem, but if you run this code on another system, or in a different virtual environment, it may use a different parser and behave differently.\n",
      "\n",
      "The code that caused this warning is on line 884 of the file /home/zjw/anaconda3/lib/python3.6/threading.py. To get rid of this warning, change code that looks like this:\n",
      "\n",
      " BeautifulSoup(YOUR_MARKUP})\n",
      "\n",
      "to this:\n",
      "\n",
      " BeautifulSoup(YOUR_MARKUP, \"lxml\")\n",
      "\n",
      "  markup_type=markup_type))\n",
      "Exception in thread Thread-23:\n",
      "Traceback (most recent call last):\n",
      "  File \"/home/zjw/anaconda3/lib/python3.6/threading.py\", line 916, in _bootstrap_inner\n",
      "    self.run()\n",
      "  File \"/home/zjw/anaconda3/lib/python3.6/threading.py\", line 864, in run\n",
      "    self._target(*self._args, **self._kwargs)\n",
      "  File \"<ipython-input-13-21ec47034ebd>\", line 23, in downloadXkcd\n",
      "    res = requests.get(comicUrl)\n",
      "  File \"/home/zjw/anaconda3/lib/python3.6/site-packages/requests/api.py\", line 72, in get\n",
      "    return request('get', url, params=params, **kwargs)\n",
      "  File \"/home/zjw/anaconda3/lib/python3.6/site-packages/requests/api.py\", line 58, in request\n",
      "    return session.request(method=method, url=url, **kwargs)\n",
      "  File \"/home/zjw/anaconda3/lib/python3.6/site-packages/requests/sessions.py\", line 494, in request\n",
      "    prep = self.prepare_request(req)\n",
      "  File \"/home/zjw/anaconda3/lib/python3.6/site-packages/requests/sessions.py\", line 437, in prepare_request\n",
      "    hooks=merge_hooks(request.hooks, self.hooks),\n",
      "  File \"/home/zjw/anaconda3/lib/python3.6/site-packages/requests/models.py\", line 305, in prepare\n",
      "    self.prepare_url(url, params)\n",
      "  File \"/home/zjw/anaconda3/lib/python3.6/site-packages/requests/models.py\", line 379, in prepare_url\n",
      "    raise MissingSchema(error)\n",
      "requests.exceptions.MissingSchema: Invalid URL '//imgs.xkcd.com/comics/religions.png': No schema supplied. Perhaps you meant http:////imgs.xkcd.com/comics/religions.png?\n",
      "\n"
     ]
    },
    {
     "name": "stdout",
     "output_type": "stream",
     "text": [
      "Downloading image //imgs.xkcd.com/comics/religions.png...\n",
      "Downloading image //imgs.xkcd.com/comics/complexion.png...\n"
     ]
    },
    {
     "name": "stderr",
     "output_type": "stream",
     "text": [
      "Exception in thread Thread-21:\n",
      "Traceback (most recent call last):\n",
      "  File \"/home/zjw/anaconda3/lib/python3.6/threading.py\", line 916, in _bootstrap_inner\n",
      "    self.run()\n",
      "  File \"/home/zjw/anaconda3/lib/python3.6/threading.py\", line 864, in run\n",
      "    self._target(*self._args, **self._kwargs)\n",
      "  File \"<ipython-input-13-21ec47034ebd>\", line 23, in downloadXkcd\n",
      "    res = requests.get(comicUrl)\n",
      "  File \"/home/zjw/anaconda3/lib/python3.6/site-packages/requests/api.py\", line 72, in get\n",
      "    return request('get', url, params=params, **kwargs)\n",
      "  File \"/home/zjw/anaconda3/lib/python3.6/site-packages/requests/api.py\", line 58, in request\n",
      "    return session.request(method=method, url=url, **kwargs)\n",
      "  File \"/home/zjw/anaconda3/lib/python3.6/site-packages/requests/sessions.py\", line 494, in request\n",
      "    prep = self.prepare_request(req)\n",
      "  File \"/home/zjw/anaconda3/lib/python3.6/site-packages/requests/sessions.py\", line 437, in prepare_request\n",
      "    hooks=merge_hooks(request.hooks, self.hooks),\n",
      "  File \"/home/zjw/anaconda3/lib/python3.6/site-packages/requests/models.py\", line 305, in prepare\n",
      "    self.prepare_url(url, params)\n",
      "  File \"/home/zjw/anaconda3/lib/python3.6/site-packages/requests/models.py\", line 379, in prepare_url\n",
      "    raise MissingSchema(error)\n",
      "requests.exceptions.MissingSchema: Invalid URL '//imgs.xkcd.com/comics/complexion.png': No schema supplied. Perhaps you meant http:////imgs.xkcd.com/comics/complexion.png?\n",
      "\n"
     ]
    },
    {
     "name": "stdout",
     "output_type": "stream",
     "text": [
      "Downloading image //imgs.xkcd.com/comics/1000_comics.png...\n",
      "Downloading image //imgs.xkcd.com/comics/vows.png...\n",
      "Downloading image //imgs.xkcd.com/comics/android_boyfriend.png...\n"
     ]
    },
    {
     "name": "stderr",
     "output_type": "stream",
     "text": [
      "Exception in thread Thread-24:\n",
      "Traceback (most recent call last):\n",
      "  File \"/home/zjw/anaconda3/lib/python3.6/threading.py\", line 916, in _bootstrap_inner\n",
      "    self.run()\n",
      "  File \"/home/zjw/anaconda3/lib/python3.6/threading.py\", line 864, in run\n",
      "    self._target(*self._args, **self._kwargs)\n",
      "  File \"<ipython-input-13-21ec47034ebd>\", line 23, in downloadXkcd\n",
      "    res = requests.get(comicUrl)\n",
      "  File \"/home/zjw/anaconda3/lib/python3.6/site-packages/requests/api.py\", line 72, in get\n",
      "    return request('get', url, params=params, **kwargs)\n",
      "  File \"/home/zjw/anaconda3/lib/python3.6/site-packages/requests/api.py\", line 58, in request\n",
      "    return session.request(method=method, url=url, **kwargs)\n",
      "  File \"/home/zjw/anaconda3/lib/python3.6/site-packages/requests/sessions.py\", line 494, in request\n",
      "    prep = self.prepare_request(req)\n",
      "  File \"/home/zjw/anaconda3/lib/python3.6/site-packages/requests/sessions.py\", line 437, in prepare_request\n",
      "    hooks=merge_hooks(request.hooks, self.hooks),\n",
      "  File \"/home/zjw/anaconda3/lib/python3.6/site-packages/requests/models.py\", line 305, in prepare\n",
      "    self.prepare_url(url, params)\n",
      "  File \"/home/zjw/anaconda3/lib/python3.6/site-packages/requests/models.py\", line 379, in prepare_url\n",
      "    raise MissingSchema(error)\n",
      "requests.exceptions.MissingSchema: Invalid URL '//imgs.xkcd.com/comics/1000_comics.png': No schema supplied. Perhaps you meant http:////imgs.xkcd.com/comics/1000_comics.png?\n",
      "\n",
      "Exception in thread Thread-25:\n",
      "Traceback (most recent call last):\n",
      "  File \"/home/zjw/anaconda3/lib/python3.6/threading.py\", line 916, in _bootstrap_inner\n",
      "    self.run()\n",
      "  File \"/home/zjw/anaconda3/lib/python3.6/threading.py\", line 864, in run\n",
      "    self._target(*self._args, **self._kwargs)\n",
      "  File \"<ipython-input-13-21ec47034ebd>\", line 23, in downloadXkcd\n",
      "    res = requests.get(comicUrl)\n",
      "  File \"/home/zjw/anaconda3/lib/python3.6/site-packages/requests/api.py\", line 72, in get\n",
      "    return request('get', url, params=params, **kwargs)\n",
      "  File \"/home/zjw/anaconda3/lib/python3.6/site-packages/requests/api.py\", line 58, in request\n",
      "    return session.request(method=method, url=url, **kwargs)\n",
      "  File \"/home/zjw/anaconda3/lib/python3.6/site-packages/requests/sessions.py\", line 494, in request\n",
      "    prep = self.prepare_request(req)\n",
      "  File \"/home/zjw/anaconda3/lib/python3.6/site-packages/requests/sessions.py\", line 437, in prepare_request\n",
      "    hooks=merge_hooks(request.hooks, self.hooks),\n",
      "  File \"/home/zjw/anaconda3/lib/python3.6/site-packages/requests/models.py\", line 305, in prepare\n",
      "    self.prepare_url(url, params)\n",
      "  File \"/home/zjw/anaconda3/lib/python3.6/site-packages/requests/models.py\", line 379, in prepare_url\n",
      "    raise MissingSchema(error)\n",
      "requests.exceptions.MissingSchema: Invalid URL '//imgs.xkcd.com/comics/vows.png': No schema supplied. Perhaps you meant http:////imgs.xkcd.com/comics/vows.png?\n",
      "\n",
      "Exception in thread Thread-20:\n",
      "Traceback (most recent call last):\n",
      "  File \"/home/zjw/anaconda3/lib/python3.6/threading.py\", line 916, in _bootstrap_inner\n",
      "    self.run()\n",
      "  File \"/home/zjw/anaconda3/lib/python3.6/threading.py\", line 864, in run\n",
      "    self._target(*self._args, **self._kwargs)\n",
      "  File \"<ipython-input-13-21ec47034ebd>\", line 23, in downloadXkcd\n",
      "    res = requests.get(comicUrl)\n",
      "  File \"/home/zjw/anaconda3/lib/python3.6/site-packages/requests/api.py\", line 72, in get\n",
      "    return request('get', url, params=params, **kwargs)\n",
      "  File \"/home/zjw/anaconda3/lib/python3.6/site-packages/requests/api.py\", line 58, in request\n",
      "    return session.request(method=method, url=url, **kwargs)\n",
      "  File \"/home/zjw/anaconda3/lib/python3.6/site-packages/requests/sessions.py\", line 494, in request\n",
      "    prep = self.prepare_request(req)\n",
      "  File \"/home/zjw/anaconda3/lib/python3.6/site-packages/requests/sessions.py\", line 437, in prepare_request\n",
      "    hooks=merge_hooks(request.hooks, self.hooks),\n",
      "  File \"/home/zjw/anaconda3/lib/python3.6/site-packages/requests/models.py\", line 305, in prepare\n",
      "    self.prepare_url(url, params)\n",
      "  File \"/home/zjw/anaconda3/lib/python3.6/site-packages/requests/models.py\", line 379, in prepare_url\n",
      "    raise MissingSchema(error)\n",
      "requests.exceptions.MissingSchema: Invalid URL '//imgs.xkcd.com/comics/android_boyfriend.png': No schema supplied. Perhaps you meant http:////imgs.xkcd.com/comics/android_boyfriend.png?\n",
      "\n"
     ]
    },
    {
     "name": "stdout",
     "output_type": "stream",
     "text": [
      "Downloading image //imgs.xkcd.com/comics/beautiful_dream.png...\n",
      "Downloading image //imgs.xkcd.com/comics/galilean_moons.png...\n"
     ]
    },
    {
     "name": "stderr",
     "output_type": "stream",
     "text": [
      "Exception in thread Thread-22:\n",
      "Traceback (most recent call last):\n",
      "  File \"/home/zjw/anaconda3/lib/python3.6/threading.py\", line 916, in _bootstrap_inner\n",
      "    self.run()\n",
      "  File \"/home/zjw/anaconda3/lib/python3.6/threading.py\", line 864, in run\n",
      "    self._target(*self._args, **self._kwargs)\n",
      "  File \"<ipython-input-13-21ec47034ebd>\", line 23, in downloadXkcd\n",
      "    res = requests.get(comicUrl)\n",
      "  File \"/home/zjw/anaconda3/lib/python3.6/site-packages/requests/api.py\", line 72, in get\n",
      "    return request('get', url, params=params, **kwargs)\n",
      "  File \"/home/zjw/anaconda3/lib/python3.6/site-packages/requests/api.py\", line 58, in request\n",
      "    return session.request(method=method, url=url, **kwargs)\n",
      "  File \"/home/zjw/anaconda3/lib/python3.6/site-packages/requests/sessions.py\", line 494, in request\n",
      "    prep = self.prepare_request(req)\n",
      "  File \"/home/zjw/anaconda3/lib/python3.6/site-packages/requests/sessions.py\", line 437, in prepare_request\n",
      "    hooks=merge_hooks(request.hooks, self.hooks),\n",
      "  File \"/home/zjw/anaconda3/lib/python3.6/site-packages/requests/models.py\", line 305, in prepare\n",
      "    self.prepare_url(url, params)\n",
      "  File \"/home/zjw/anaconda3/lib/python3.6/site-packages/requests/models.py\", line 379, in prepare_url\n",
      "    raise MissingSchema(error)\n",
      "requests.exceptions.MissingSchema: Invalid URL '//imgs.xkcd.com/comics/beautiful_dream.png': No schema supplied. Perhaps you meant http:////imgs.xkcd.com/comics/beautiful_dream.png?\n",
      "\n",
      "Exception in thread Thread-27:\n",
      "Traceback (most recent call last):\n",
      "  File \"/home/zjw/anaconda3/lib/python3.6/threading.py\", line 916, in _bootstrap_inner\n",
      "    self.run()\n",
      "  File \"/home/zjw/anaconda3/lib/python3.6/threading.py\", line 864, in run\n",
      "    self._target(*self._args, **self._kwargs)\n",
      "  File \"<ipython-input-13-21ec47034ebd>\", line 23, in downloadXkcd\n",
      "    res = requests.get(comicUrl)\n",
      "  File \"/home/zjw/anaconda3/lib/python3.6/site-packages/requests/api.py\", line 72, in get\n",
      "    return request('get', url, params=params, **kwargs)\n",
      "  File \"/home/zjw/anaconda3/lib/python3.6/site-packages/requests/api.py\", line 58, in request\n",
      "    return session.request(method=method, url=url, **kwargs)\n",
      "  File \"/home/zjw/anaconda3/lib/python3.6/site-packages/requests/sessions.py\", line 494, in request\n",
      "    prep = self.prepare_request(req)\n",
      "  File \"/home/zjw/anaconda3/lib/python3.6/site-packages/requests/sessions.py\", line 437, in prepare_request\n",
      "    hooks=merge_hooks(request.hooks, self.hooks),\n",
      "  File \"/home/zjw/anaconda3/lib/python3.6/site-packages/requests/models.py\", line 305, in prepare\n",
      "    self.prepare_url(url, params)\n",
      "  File \"/home/zjw/anaconda3/lib/python3.6/site-packages/requests/models.py\", line 379, in prepare_url\n",
      "    raise MissingSchema(error)\n",
      "requests.exceptions.MissingSchema: Invalid URL '//imgs.xkcd.com/comics/galilean_moons.png': No schema supplied. Perhaps you meant http:////imgs.xkcd.com/comics/galilean_moons.png?\n",
      "\n"
     ]
    },
    {
     "name": "stdout",
     "output_type": "stream",
     "text": [
      "Downloading image //imgs.xkcd.com/comics/family_circus.jpg...\n"
     ]
    },
    {
     "name": "stderr",
     "output_type": "stream",
     "text": [
      "Exception in thread Thread-15:\n",
      "Traceback (most recent call last):\n",
      "  File \"/home/zjw/anaconda3/lib/python3.6/threading.py\", line 916, in _bootstrap_inner\n",
      "    self.run()\n",
      "  File \"/home/zjw/anaconda3/lib/python3.6/threading.py\", line 864, in run\n",
      "    self._target(*self._args, **self._kwargs)\n",
      "  File \"<ipython-input-13-21ec47034ebd>\", line 23, in downloadXkcd\n",
      "    res = requests.get(comicUrl)\n",
      "  File \"/home/zjw/anaconda3/lib/python3.6/site-packages/requests/api.py\", line 72, in get\n",
      "    return request('get', url, params=params, **kwargs)\n",
      "  File \"/home/zjw/anaconda3/lib/python3.6/site-packages/requests/api.py\", line 58, in request\n",
      "    return session.request(method=method, url=url, **kwargs)\n",
      "  File \"/home/zjw/anaconda3/lib/python3.6/site-packages/requests/sessions.py\", line 494, in request\n",
      "    prep = self.prepare_request(req)\n",
      "  File \"/home/zjw/anaconda3/lib/python3.6/site-packages/requests/sessions.py\", line 437, in prepare_request\n",
      "    hooks=merge_hooks(request.hooks, self.hooks),\n",
      "  File \"/home/zjw/anaconda3/lib/python3.6/site-packages/requests/models.py\", line 305, in prepare\n",
      "    self.prepare_url(url, params)\n",
      "  File \"/home/zjw/anaconda3/lib/python3.6/site-packages/requests/models.py\", line 379, in prepare_url\n",
      "    raise MissingSchema(error)\n",
      "requests.exceptions.MissingSchema: Invalid URL '//imgs.xkcd.com/comics/family_circus.jpg': No schema supplied. Perhaps you meant http:////imgs.xkcd.com/comics/family_circus.jpg?\n",
      "\n",
      "Exception in thread Thread-14:\n",
      "Traceback (most recent call last):\n",
      "  File \"/home/zjw/anaconda3/lib/python3.6/threading.py\", line 916, in _bootstrap_inner\n",
      "    self.run()\n",
      "  File \"/home/zjw/anaconda3/lib/python3.6/threading.py\", line 864, in run\n",
      "    self._target(*self._args, **self._kwargs)\n",
      "  File \"<ipython-input-13-21ec47034ebd>\", line 9, in downloadXkcd\n",
      "    res.raise_for_status()\n",
      "  File \"/home/zjw/anaconda3/lib/python3.6/site-packages/requests/models.py\", line 935, in raise_for_status\n",
      "    raise HTTPError(http_error_msg, response=self)\n",
      "requests.exceptions.HTTPError: 404 Client Error: Not Found for url: https://xkcd.com/0\n",
      "\n"
     ]
    },
    {
     "name": "stdout",
     "output_type": "stream",
     "text": [
      "Downloading image //imgs.xkcd.com/comics/important_life_lesson.png...\n"
     ]
    },
    {
     "name": "stderr",
     "output_type": "stream",
     "text": [
      "Exception in thread Thread-18:\n",
      "Traceback (most recent call last):\n",
      "  File \"/home/zjw/anaconda3/lib/python3.6/threading.py\", line 916, in _bootstrap_inner\n",
      "    self.run()\n",
      "  File \"/home/zjw/anaconda3/lib/python3.6/threading.py\", line 864, in run\n",
      "    self._target(*self._args, **self._kwargs)\n",
      "  File \"<ipython-input-13-21ec47034ebd>\", line 23, in downloadXkcd\n",
      "    res = requests.get(comicUrl)\n",
      "  File \"/home/zjw/anaconda3/lib/python3.6/site-packages/requests/api.py\", line 72, in get\n",
      "    return request('get', url, params=params, **kwargs)\n",
      "  File \"/home/zjw/anaconda3/lib/python3.6/site-packages/requests/api.py\", line 58, in request\n",
      "    return session.request(method=method, url=url, **kwargs)\n",
      "  File \"/home/zjw/anaconda3/lib/python3.6/site-packages/requests/sessions.py\", line 494, in request\n",
      "    prep = self.prepare_request(req)\n",
      "  File \"/home/zjw/anaconda3/lib/python3.6/site-packages/requests/sessions.py\", line 437, in prepare_request\n",
      "    hooks=merge_hooks(request.hooks, self.hooks),\n",
      "  File \"/home/zjw/anaconda3/lib/python3.6/site-packages/requests/models.py\", line 305, in prepare\n",
      "    self.prepare_url(url, params)\n",
      "  File \"/home/zjw/anaconda3/lib/python3.6/site-packages/requests/models.py\", line 379, in prepare_url\n",
      "    raise MissingSchema(error)\n",
      "requests.exceptions.MissingSchema: Invalid URL '//imgs.xkcd.com/comics/important_life_lesson.png': No schema supplied. Perhaps you meant http:////imgs.xkcd.com/comics/important_life_lesson.png?\n",
      "\n"
     ]
    },
    {
     "name": "stdout",
     "output_type": "stream",
     "text": [
      "Downloading image //imgs.xkcd.com/comics/bill_nye.png...\n"
     ]
    },
    {
     "name": "stderr",
     "output_type": "stream",
     "text": [
      "Exception in thread Thread-16:\n",
      "Traceback (most recent call last):\n",
      "  File \"/home/zjw/anaconda3/lib/python3.6/threading.py\", line 916, in _bootstrap_inner\n",
      "    self.run()\n",
      "  File \"/home/zjw/anaconda3/lib/python3.6/threading.py\", line 864, in run\n",
      "    self._target(*self._args, **self._kwargs)\n",
      "  File \"<ipython-input-13-21ec47034ebd>\", line 23, in downloadXkcd\n",
      "    res = requests.get(comicUrl)\n",
      "  File \"/home/zjw/anaconda3/lib/python3.6/site-packages/requests/api.py\", line 72, in get\n",
      "    return request('get', url, params=params, **kwargs)\n",
      "  File \"/home/zjw/anaconda3/lib/python3.6/site-packages/requests/api.py\", line 58, in request\n",
      "    return session.request(method=method, url=url, **kwargs)\n",
      "  File \"/home/zjw/anaconda3/lib/python3.6/site-packages/requests/sessions.py\", line 494, in request\n",
      "    prep = self.prepare_request(req)\n",
      "  File \"/home/zjw/anaconda3/lib/python3.6/site-packages/requests/sessions.py\", line 437, in prepare_request\n",
      "    hooks=merge_hooks(request.hooks, self.hooks),\n",
      "  File \"/home/zjw/anaconda3/lib/python3.6/site-packages/requests/models.py\", line 305, in prepare\n",
      "    self.prepare_url(url, params)\n",
      "  File \"/home/zjw/anaconda3/lib/python3.6/site-packages/requests/models.py\", line 379, in prepare_url\n",
      "    raise MissingSchema(error)\n",
      "requests.exceptions.MissingSchema: Invalid URL '//imgs.xkcd.com/comics/bill_nye.png': No schema supplied. Perhaps you meant http:////imgs.xkcd.com/comics/bill_nye.png?\n",
      "\n"
     ]
    },
    {
     "name": "stdout",
     "output_type": "stream",
     "text": [
      "Downloading image //imgs.xkcd.com/comics/authorization.png...\n",
      "Downloading image //imgs.xkcd.com/comics/facebook.png...\n"
     ]
    },
    {
     "name": "stderr",
     "output_type": "stream",
     "text": [
      "Exception in thread Thread-26:\n",
      "Traceback (most recent call last):\n",
      "  File \"/home/zjw/anaconda3/lib/python3.6/threading.py\", line 916, in _bootstrap_inner\n",
      "    self.run()\n",
      "  File \"/home/zjw/anaconda3/lib/python3.6/threading.py\", line 864, in run\n",
      "    self._target(*self._args, **self._kwargs)\n",
      "  File \"<ipython-input-13-21ec47034ebd>\", line 23, in downloadXkcd\n",
      "    res = requests.get(comicUrl)\n",
      "  File \"/home/zjw/anaconda3/lib/python3.6/site-packages/requests/api.py\", line 72, in get\n",
      "    return request('get', url, params=params, **kwargs)\n",
      "  File \"/home/zjw/anaconda3/lib/python3.6/site-packages/requests/api.py\", line 58, in request\n",
      "    return session.request(method=method, url=url, **kwargs)\n",
      "  File \"/home/zjw/anaconda3/lib/python3.6/site-packages/requests/sessions.py\", line 494, in request\n",
      "    prep = self.prepare_request(req)\n",
      "  File \"/home/zjw/anaconda3/lib/python3.6/site-packages/requests/sessions.py\", line 437, in prepare_request\n",
      "    hooks=merge_hooks(request.hooks, self.hooks),\n",
      "  File \"/home/zjw/anaconda3/lib/python3.6/site-packages/requests/models.py\", line 305, in prepare\n",
      "    self.prepare_url(url, params)\n",
      "  File \"/home/zjw/anaconda3/lib/python3.6/site-packages/requests/models.py\", line 379, in prepare_url\n",
      "    raise MissingSchema(error)\n",
      "requests.exceptions.MissingSchema: Invalid URL '//imgs.xkcd.com/comics/authorization.png': No schema supplied. Perhaps you meant http:////imgs.xkcd.com/comics/authorization.png?\n",
      "\n",
      "Exception in thread Thread-17:\n",
      "Traceback (most recent call last):\n",
      "  File \"/home/zjw/anaconda3/lib/python3.6/threading.py\", line 916, in _bootstrap_inner\n",
      "    self.run()\n",
      "  File \"/home/zjw/anaconda3/lib/python3.6/threading.py\", line 864, in run\n",
      "    self._target(*self._args, **self._kwargs)\n",
      "  File \"<ipython-input-13-21ec47034ebd>\", line 23, in downloadXkcd\n",
      "    res = requests.get(comicUrl)\n",
      "  File \"/home/zjw/anaconda3/lib/python3.6/site-packages/requests/api.py\", line 72, in get\n",
      "    return request('get', url, params=params, **kwargs)\n",
      "  File \"/home/zjw/anaconda3/lib/python3.6/site-packages/requests/api.py\", line 58, in request\n",
      "    return session.request(method=method, url=url, **kwargs)\n",
      "  File \"/home/zjw/anaconda3/lib/python3.6/site-packages/requests/sessions.py\", line 494, in request\n",
      "    prep = self.prepare_request(req)\n",
      "  File \"/home/zjw/anaconda3/lib/python3.6/site-packages/requests/sessions.py\", line 437, in prepare_request\n",
      "    hooks=merge_hooks(request.hooks, self.hooks),\n",
      "  File \"/home/zjw/anaconda3/lib/python3.6/site-packages/requests/models.py\", line 305, in prepare\n",
      "    self.prepare_url(url, params)\n",
      "  File \"/home/zjw/anaconda3/lib/python3.6/site-packages/requests/models.py\", line 379, in prepare_url\n",
      "    raise MissingSchema(error)\n",
      "requests.exceptions.MissingSchema: Invalid URL '//imgs.xkcd.com/comics/facebook.png': No schema supplied. Perhaps you meant http:////imgs.xkcd.com/comics/facebook.png?\n",
      "\n"
     ]
    },
    {
     "name": "stdout",
     "output_type": "stream",
     "text": [
      "Downloading image //imgs.xkcd.com/comics/election.png...\n",
      "Done.\n"
     ]
    },
    {
     "name": "stderr",
     "output_type": "stream",
     "text": [
      "Exception in thread Thread-19:\n",
      "Traceback (most recent call last):\n",
      "  File \"/home/zjw/anaconda3/lib/python3.6/threading.py\", line 916, in _bootstrap_inner\n",
      "    self.run()\n",
      "  File \"/home/zjw/anaconda3/lib/python3.6/threading.py\", line 864, in run\n",
      "    self._target(*self._args, **self._kwargs)\n",
      "  File \"<ipython-input-13-21ec47034ebd>\", line 23, in downloadXkcd\n",
      "    res = requests.get(comicUrl)\n",
      "  File \"/home/zjw/anaconda3/lib/python3.6/site-packages/requests/api.py\", line 72, in get\n",
      "    return request('get', url, params=params, **kwargs)\n",
      "  File \"/home/zjw/anaconda3/lib/python3.6/site-packages/requests/api.py\", line 58, in request\n",
      "    return session.request(method=method, url=url, **kwargs)\n",
      "  File \"/home/zjw/anaconda3/lib/python3.6/site-packages/requests/sessions.py\", line 494, in request\n",
      "    prep = self.prepare_request(req)\n",
      "  File \"/home/zjw/anaconda3/lib/python3.6/site-packages/requests/sessions.py\", line 437, in prepare_request\n",
      "    hooks=merge_hooks(request.hooks, self.hooks),\n",
      "  File \"/home/zjw/anaconda3/lib/python3.6/site-packages/requests/models.py\", line 305, in prepare\n",
      "    self.prepare_url(url, params)\n",
      "  File \"/home/zjw/anaconda3/lib/python3.6/site-packages/requests/models.py\", line 379, in prepare_url\n",
      "    raise MissingSchema(error)\n",
      "requests.exceptions.MissingSchema: Invalid URL '//imgs.xkcd.com/comics/election.png': No schema supplied. Perhaps you meant http:////imgs.xkcd.com/comics/election.png?\n",
      "\n"
     ]
    }
   ],
   "source": [
    "import requests, os, bs4, threading\n",
    "os.makedirs('xkcd', exist_ok=True) # store comics in ./xkcd\n",
    "\n",
    "def downloadXkcd(startComic, endComic):\n",
    "    for urlNumber in range(startComic, endComic):\n",
    "        # Download the page.\n",
    "        print('Downloading page http://xkcd.com/%s...' % (urlNumber))\n",
    "        res = requests.get('http://xkcd.com/%s' % (urlNumber))\n",
    "        res.raise_for_status()\n",
    "        \n",
    "        # generate an instance according to HTML\n",
    "        soup = bs4.BeautifulSoup(res.text) \n",
    "        \n",
    "        # Find the URL of the comic image.\n",
    "        comicElem = soup.select('#comic img')\n",
    "        \n",
    "        if comicElem == []:\n",
    "            print('Could not find comic image.')\n",
    "        else:\n",
    "            comicUrl = comicElem[0].get('src')\n",
    "        # Download the image.\n",
    "        print('Downloading image %s...' % (comicUrl))\n",
    "        res = requests.get(comicUrl)\n",
    "        res.raise_for_status()\n",
    "        \n",
    "        # Save the image to ./xkcd.\n",
    "        imageFile = open(os.path.join('xkcd', os.path.basename(comicUrl)), 'wb')\n",
    "        for chunk in res.iter_content(100000):\n",
    "            imageFile.write(chunk)\n",
    "        imageFile.close()\n",
    "        \n",
    "\n",
    "# Create and start the Thread objects.\n",
    "downloadThreads = [] # a list of all the Thread objects\n",
    "for i in range(0, 1400, 100): # loops 14 times, creates 14 threads\n",
    "    downloadThread = threading.Thread(target=downloadXkcd, args=(i, i + 99))\n",
    "    downloadThreads.append(downloadThread)\n",
    "    downloadThread.start()\n",
    "    \n",
    "# Wait for all threads to end.\n",
    "for downloadThread in downloadThreads:\n",
    "    downloadThread.join()\n",
    "print('Done.')"
   ]
  },
  {
   "cell_type": "code",
   "execution_count": 15,
   "metadata": {},
   "outputs": [
    {
     "data": {
      "text/plain": [
       "4"
      ]
     },
     "execution_count": 15,
     "metadata": {},
     "output_type": "execute_result"
    }
   ],
   "source": []
  },
  {
   "cell_type": "code",
   "execution_count": null,
   "metadata": {},
   "outputs": [],
   "source": []
  }
 ],
 "metadata": {
  "kernelspec": {
   "display_name": "Python 3",
   "language": "python",
   "name": "python3"
  },
  "language_info": {
   "codemirror_mode": {
    "name": "ipython",
    "version": 3
   },
   "file_extension": ".py",
   "mimetype": "text/x-python",
   "name": "python",
   "nbconvert_exporter": "python",
   "pygments_lexer": "ipython3",
   "version": "3.6.4"
  }
 },
 "nbformat": 4,
 "nbformat_minor": 2
}
