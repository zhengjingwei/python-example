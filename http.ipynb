{
 "cells": [
  {
   "cell_type": "code",
   "execution_count": 1,
   "metadata": {},
   "outputs": [],
   "source": [
    "import pandas as pd\n",
    "import numpy as np\n",
    "import json\n",
    "import requests"
   ]
  },
  {
   "cell_type": "code",
   "execution_count": 2,
   "metadata": {},
   "outputs": [],
   "source": [
    "url = 'https://daishu.qq.com//testWebService/api?cmd=test1002'\n",
    "headers = {'content-type': 'application/json', 'Accept-Charset': 'UTF-8'}\n",
    "body = '{\"code\":\"230875000490010005\",\"codeType\":\"0\"}' \n",
    "\n",
    "req = requests.post(url, data=body, headers=headers)\n",
    "print(req.status_code)"
   ]
  },
  {
   "cell_type": "code",
   "execution_count": 3,
   "metadata": {},
   "outputs": [
    {
     "data": {
      "text/plain": [
       "'{\"cmd\":\"1002\",\"ret\":\"1\",\"msg\":\"success\",\"data\":{\"barCode\":\"230875000490010005\",\"customCode\":\"250093\",\"codeType\":0,\"title\":\"香腊鸭腿\",\"weight\":\"\",\"productionDate\":0,\"shelfLife\":\"\",\"producer\":\"\",\"imageUrl\":\"\",\"price\":\"4.9\",\"originalPrice\":\"4.9\",\"shelvesName\":\"\",\"shelvesCoor\":\"\",\"detail\":\"\"}}'"
      ]
     },
     "execution_count": 3,
     "metadata": {},
     "output_type": "execute_result"
    }
   ],
   "source": [
    "r = req.text"
   ]
  },
  {
   "cell_type": "code",
   "execution_count": 4,
   "metadata": {},
   "outputs": [
    {
     "data": {
      "text/plain": [
       "{'cmd': '1002',\n",
       " 'ret': '1',\n",
       " 'msg': 'success',\n",
       " 'data': {'barCode': '230875000490010005',\n",
       "  'customCode': '250093',\n",
       "  'codeType': 0,\n",
       "  'title': '香腊鸭腿',\n",
       "  'weight': '',\n",
       "  'productionDate': 0,\n",
       "  'shelfLife': '',\n",
       "  'producer': '',\n",
       "  'imageUrl': '',\n",
       "  'price': '4.9',\n",
       "  'originalPrice': '4.9',\n",
       "  'shelvesName': '',\n",
       "  'shelvesCoor': '',\n",
       "  'detail': ''}}"
      ]
     },
     "execution_count": 4,
     "metadata": {},
     "output_type": "execute_result"
    }
   ],
   "source": [
    "rjson = json.loads(r)\n",
    "rjson"
   ]
  },
  {
   "cell_type": "code",
   "execution_count": null,
   "metadata": {},
   "outputs": [],
   "source": []
  }
 ],
 "metadata": {
  "kernelspec": {
   "display_name": "Python 3",
   "language": "python",
   "name": "python3"
  },
  "language_info": {
   "codemirror_mode": {
    "name": "ipython",
    "version": 3
   },
   "file_extension": ".py",
   "mimetype": "text/x-python",
   "name": "python",
   "nbconvert_exporter": "python",
   "pygments_lexer": "ipython3",
   "version": "3.6.7"
  }
 },
 "nbformat": 4,
 "nbformat_minor": 2
}
