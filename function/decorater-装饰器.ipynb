{
 "cells": [
  {
   "cell_type": "markdown",
   "metadata": {},
   "source": [
    "# 装饰器\n",
    "\n",
    "装饰器的作用就是为已经存在的对象添加额外的功能\n",
    "\n",
    "装饰器本质上是一个Python函数，返回值也是一个函数对象\n",
    "\n",
    "它经常用于有切面需求的场景，比如：插入日志、性能测试、事务处理、缓存、权限校验等场景。装饰器是解决这类问题的绝佳设计，有了装饰器，我们就可以抽离出大量与函数功能本身无关的雷同代码并继续重用。\n",
    "\n",
    "装饰器在Python使用如此方便都要归因于Python的函数能够像普通的对象一样能作为参数传递给其他函数，可以被复制给其他变量，可以作为返回值，可以被定义在另一个函数内\n",
    "\n",
    "@符号是Python装饰器的语法糖，它放在一个函数开始定义的地方，像一顶帽子一样戴在这个函数的头上。和这个函数绑定在一起。在我们调用这个函数的时候，第一件事并不是执行这个函数，而是将这个函数做为参数传入它头顶上这顶帽子，这顶帽子我们称之为**装饰函数** 或 **装饰器**。"
   ]
  },
  {
   "cell_type": "markdown",
   "metadata": {},
   "source": [
    "## 01 普通装饰器\n"
   ]
  },
  {
   "cell_type": "code",
   "execution_count": 7,
   "metadata": {},
   "outputs": [
    {
     "name": "stderr",
     "output_type": "stream",
     "text": [
      "/home/zjw/anaconda3/lib/python3.6/site-packages/ipykernel_launcher.py:4: DeprecationWarning: The 'warn' function is deprecated, use 'warning' instead\n",
      "  after removing the cwd from sys.path.\n",
      "WARNING:root:bar is running\n"
     ]
    },
    {
     "name": "stdout",
     "output_type": "stream",
     "text": [
      "i am bar\n"
     ]
    }
   ],
   "source": [
    "import logging\n",
    "def use_logging(func):\n",
    "    def wrapper(*args, **kwargs):\n",
    "        logging.warn(\"%s is running\" % func.__name__)\n",
    "        return func(*args, **kwargs)\n",
    "    return wrapper\n",
    "\n",
    "@use_logging\n",
    "def foo():\n",
    "    print(\"i am foo\")\n",
    "\n",
    "@use_logging\n",
    "def bar():\n",
    "    print(\"i am bar\")\n",
    "\n",
    "bar()"
   ]
  },
  {
   "cell_type": "code",
   "execution_count": 8,
   "metadata": {},
   "outputs": [
    {
     "name": "stdout",
     "output_type": "stream",
     "text": [
      "cost time:5.0033745765686035 seconds\n"
     ]
    }
   ],
   "source": [
    "# 时间计数器\n",
    "import time\n",
    "def timer(func):\n",
    "    def wrapper(*args, **kwargs):\n",
    "        t1 = time.time()\n",
    "        func(*args, **kwargs)\n",
    "        t2 = time.time()\n",
    "        print('cost time:{} seconds'.format(t2-t1))\n",
    "    return wrapper\n",
    "\n",
    "@timer\n",
    "def want_sleep(sleep_time):\n",
    "    time.sleep(sleep_time)\n",
    "    \n",
    "want_sleep(5)"
   ]
  },
  {
   "cell_type": "markdown",
   "metadata": {},
   "source": [
    "## 02 带参数装饰器\n",
    "\n",
    "在上面的装饰器调用中，比如@use_logging，该装饰器唯一的参数就是执行业务的函数。装饰器的语法允许我们在调用时，提供其它参数，比如@decorator(a)。\n",
    "\n",
    "传参需要两层嵌套"
   ]
  },
  {
   "cell_type": "code",
   "execution_count": 4,
   "metadata": {},
   "outputs": [
    {
     "name": "stderr",
     "output_type": "stream",
     "text": [
      "/home/zjw/anaconda3/lib/python3.6/site-packages/ipykernel_launcher.py:5: DeprecationWarning: The 'warn' function is deprecated, use 'warning' instead\n",
      "  \"\"\"\n",
      "WARNING:root:foo is running\n"
     ]
    },
    {
     "name": "stdout",
     "output_type": "stream",
     "text": [
      "i am foo\n"
     ]
    }
   ],
   "source": [
    "def use_logging(level):\n",
    "    def decorator(func):\n",
    "        def wrapper(*args, **kwargs):\n",
    "            if level == \"warn\":\n",
    "                logging.warn(\"%s is running\" % func.__name__)\n",
    "            return func(*args)\n",
    "        return wrapper\n",
    "    return decorator\n",
    "\n",
    "@use_logging(level=\"warn\")\n",
    "def foo(name='foo'):\n",
    "    print(\"i am %s\" % name)\n",
    "\n",
    "foo()"
   ]
  },
  {
   "cell_type": "markdown",
   "metadata": {},
   "source": [
    "## 03 不带参数的类装饰器\n",
    "\n",
    "以上都是基于函数实现的装饰器，在阅读别人代码时，还可以时常发现还有基于类实现的装饰器。\n",
    "\n",
    "基于类装饰器的实现，必须实现 \\_\\_call\\_\\_ 和 \\_\\_init\\_\\_两个内置函数。 \\_\\_init\\_\\_ ：接收被装饰函数 \\_\\_call\\_\\_ ：实现装饰逻辑。当使用 @ 形式将装饰器附加到函数上时，就会调用此方法。"
   ]
  },
  {
   "cell_type": "code",
   "execution_count": 9,
   "metadata": {},
   "outputs": [
    {
     "name": "stdout",
     "output_type": "stream",
     "text": [
      "[INFO]: the function say() is running...\n",
      "say hello!\n"
     ]
    }
   ],
   "source": [
    "class logger(object):\n",
    "    def __init__(self, func):\n",
    "        self.func = func\n",
    "\n",
    "    def __call__(self, *args, **kwargs):\n",
    "        print(\"[INFO]: the function {func}() is running...\"\\\n",
    "            .format(func=self.func.__name__))\n",
    "        return self.func(*args, **kwargs)\n",
    "\n",
    "@logger\n",
    "def say(something):\n",
    "    print(\"say {}!\".format(something))\n",
    "\n",
    "say(\"hello\")"
   ]
  },
  {
   "cell_type": "markdown",
   "metadata": {},
   "source": [
    "## 04 带参数的类装饰器"
   ]
  },
  {
   "cell_type": "markdown",
   "metadata": {},
   "source": [
    "上面不带参数的例子，你发现没有，只能打印`INFO`级别的日志，正常情况下，我们还需要打印`DEBUG `,`WARNING`等级别的日志。 这就需要给类装饰器传入参数，给这个函数指定级别了。\n",
    "\n",
    "带参数和不带参数的类装饰器有很大的不同。\n",
    "\n",
    "\\_\\_init\\_\\_ ：不再接收被装饰函数，而是接收传入参数。 \\_\\_call\\_\\_ ：接收被装饰函数，实现装饰逻辑。\n"
   ]
  },
  {
   "cell_type": "code",
   "execution_count": 10,
   "metadata": {},
   "outputs": [
    {
     "name": "stdout",
     "output_type": "stream",
     "text": [
      "[WARNING]: the function say() is running...\n",
      "say hello!\n"
     ]
    }
   ],
   "source": [
    "class logger(object):\n",
    "    def __init__(self, level='INFO'):\n",
    "        self.level = level\n",
    "\n",
    "    def __call__(self, func): # 接受函数\n",
    "        def wrapper(*args, **kwargs):\n",
    "            print(\"[{level}]: the function {func}() is running...\"\\\n",
    "                .format(level=self.level, func=func.__name__))\n",
    "            func(*args, **kwargs)\n",
    "        return wrapper  #返回函数\n",
    "\n",
    "@logger(level='WARNING')\n",
    "def say(something):\n",
    "    print(\"say {}!\".format(something))\n",
    "\n",
    "say(\"hello\")"
   ]
  },
  {
   "cell_type": "markdown",
   "metadata": {},
   "source": [
    "## 05 wraps装饰器\n",
    "\n"
   ]
  },
  {
   "cell_type": "code",
   "execution_count": 11,
   "metadata": {},
   "outputs": [
    {
     "name": "stdout",
     "output_type": "stream",
     "text": [
      "inner_function\n"
     ]
    }
   ],
   "source": [
    "def wrapper(func):\n",
    "    def inner_function():\n",
    "        pass\n",
    "    return inner_function\n",
    "\n",
    "@wrapper\n",
    "def wrapped():\n",
    "    pass\n",
    "\n",
    "print(wrapped.__name__)"
   ]
  },
  {
   "cell_type": "markdown",
   "metadata": {},
   "source": [
    "为什么返回的不是`func`？不难看出，因为上边执行 `func` 与下面  `decorator(func)` 是等价的， `func.__name__` 是等价于下面`decorator(func).__name_`_ 的，那当然名字是 `inner_function`"
   ]
  },
  {
   "cell_type": "code",
   "execution_count": 12,
   "metadata": {},
   "outputs": [
    {
     "name": "stdout",
     "output_type": "stream",
     "text": [
      "inner_function\n"
     ]
    }
   ],
   "source": [
    "def wrapper(func):\n",
    "    def inner_function():\n",
    "        pass\n",
    "    return inner_function\n",
    "\n",
    "def wrapped():\n",
    "    pass\n",
    "\n",
    "print(wrapper(wrapped).__name__)"
   ]
  },
  {
   "cell_type": "markdown",
   "metadata": {},
   "source": [
    "那如何避免这种情况的产生？方法是使用 `functools.wraps` 装饰器，它的作用就是将 **被修饰的函数(wrapped)** 的一些属性值赋值给 修饰器函数**(wrapper)** ，最终让属性的显示更符合我们的直觉。"
   ]
  },
  {
   "cell_type": "code",
   "execution_count": 13,
   "metadata": {},
   "outputs": [
    {
     "name": "stdout",
     "output_type": "stream",
     "text": [
      "wrapped\n"
     ]
    }
   ],
   "source": [
    "from functools import wraps\n",
    "\n",
    "def wrapper(func):\n",
    "    @wraps(func)\n",
    "    def inner_function():\n",
    "        pass\n",
    "    return inner_function\n",
    "\n",
    "@wrapper\n",
    "def wrapped():\n",
    "    pass\n",
    "\n",
    "print(wrapped.__name__)"
   ]
  },
  {
   "cell_type": "markdown",
   "metadata": {},
   "source": [
    "## 内置装饰器：property"
   ]
  },
  {
   "cell_type": "markdown",
   "metadata": {},
   "source": [
    "以上，我们介绍的都是自定义的装饰器。\n",
    "\n",
    "其实Python语言本身也有一些装饰器。比如property这个内建装饰器，我们再熟悉不过了。\n",
    "\n",
    "它通常存在于类中，可以将一个函数定义成一个属性，属性的值就是该函数return的内容。\n",
    "\n",
    "通常我们给实例绑定属性是这样的"
   ]
  },
  {
   "cell_type": "code",
   "execution_count": 14,
   "metadata": {},
   "outputs": [],
   "source": [
    "class Student():\n",
    "    def __init__(self, name, age=None):\n",
    "        self.name = name\n",
    "        self.age = age\n",
    "    \n",
    "# 实例化\n",
    "XiaoMing = Student(\"小明\")\n",
    "\n",
    "# 添加属性\n",
    "XiaoMing.age=25\n",
    "\n",
    "# 查询属性\n",
    "XiaoMing.age\n",
    "\n",
    "# 删除属性\n",
    "del XiaoMing.age"
   ]
  },
  {
   "cell_type": "markdown",
   "metadata": {},
   "source": [
    "但是稍有经验的开发人员，一下就可以看出，**这样直接把属性暴露出去，虽然写起来很简单，但是并不能对属性的值做合法性限制**。为了实现这个功能，我们可以这样写。"
   ]
  },
  {
   "cell_type": "code",
   "execution_count": 17,
   "metadata": {},
   "outputs": [],
   "source": [
    "class Student(object):\n",
    "    def __init__(self, name):\n",
    "        self.name = name\n",
    "        self.name = None\n",
    "\n",
    "    def set_age(self, age):\n",
    "        if not isinstance(age, int):\n",
    "            raise ValueError('输入不合法：年龄必须为数值!')\n",
    "        if not 0 < age < 100:\n",
    "            raise ValueError('输入不合法：年龄范围必须0-100')\n",
    "        self._age=age\n",
    "\n",
    "    def get_age(self):\n",
    "        return self._age\n",
    "\n",
    "    def del_age(self):\n",
    "        self._age = None\n",
    "\n",
    "\n",
    "XiaoMing = Student(\"小明\")\n",
    "\n",
    "# 添加属性\n",
    "XiaoMing.set_age(25)\n",
    "\n",
    "# 查询属性\n",
    "XiaoMing.get_age()\n",
    "\n",
    "# 删除属性\n",
    "XiaoMing.del_age()"
   ]
  },
  {
   "cell_type": "markdown",
   "metadata": {},
   "source": [
    "上面的代码设计虽然可以变量的定义，但是可以发现不管是获取还是赋值（通过函数）都和我们平时见到的不一样。 按照我们思维习惯应该是这样的。\n",
    "\n",
    "```python\n",
    "# 赋值\n",
    "XiaoMing.age = 25\n",
    "\n",
    "# 获取\n",
    "XiaoMing.age\n",
    "```\n",
    "那么这样的方式我们如何实现呢。请看下面的代码。\n"
   ]
  },
  {
   "cell_type": "code",
   "execution_count": 21,
   "metadata": {},
   "outputs": [],
   "source": [
    "class Student(object):\n",
    "    def __init__(self, name):\n",
    "        self.name = name\n",
    "        self.name = None\n",
    "\n",
    "    @property\n",
    "    def age(self):\n",
    "        return self._age\n",
    "\n",
    "    @age.setter\n",
    "    def age(self, value):\n",
    "        if not isinstance(value, int):\n",
    "            raise ValueError('输入不合法：年龄必须为数值!')\n",
    "        if not 0 < value < 100:\n",
    "            raise ValueError('输入不合法：年龄范围必须0-100')\n",
    "        self._age=value\n",
    "\n",
    "    @age.deleter\n",
    "    def age(self):\n",
    "        del self._age\n",
    "\n",
    "XiaoMing = Student(\"小明\")\n",
    "\n",
    "# 设置属性\n",
    "XiaoMing.age = 25\n",
    "\n",
    "# 查询属性\n",
    "XiaoMing.age\n",
    "\n",
    "# 删除属性\n",
    "del XiaoMing.age"
   ]
  },
  {
   "cell_type": "markdown",
   "metadata": {},
   "source": [
    "用`@property`装饰过的函数，会将一个函数定义成一个属性，属性的值就是该函数return的内容。同时，会将这个函数变成另外一个装饰器。就像后面我们使用的`@age.setter`和`@age.deleter`。`@age.setter` 使得我们可以使用`XiaoMing.age = 25`这样的方式直接赋值。 `@age.deleter` 使得我们可以使用`del XiaoMing.age`这样的方式来删除属性。"
   ]
  },
  {
   "cell_type": "code",
   "execution_count": null,
   "metadata": {},
   "outputs": [],
   "source": []
  }
 ],
 "metadata": {
  "kernelspec": {
   "display_name": "Python 3",
   "language": "python",
   "name": "python3"
  },
  "language_info": {
   "codemirror_mode": {
    "name": "ipython",
    "version": 3
   },
   "file_extension": ".py",
   "mimetype": "text/x-python",
   "name": "python",
   "nbconvert_exporter": "python",
   "pygments_lexer": "ipython3",
   "version": "3.6.4"
  }
 },
 "nbformat": 4,
 "nbformat_minor": 2
}
