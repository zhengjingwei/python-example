{
 "cells": [
  {
   "cell_type": "markdown",
   "metadata": {},
   "source": [
    "# 不用正则表达式来查找文本模式\n",
    "\n",
    "假设你希望在字符串中查找电话号码。你知道模式：3 个数字，一个短横线，3个数字，一个短横线，再是4 个数字。例如：415-555-4242。"
   ]
  },
  {
   "cell_type": "code",
   "execution_count": 3,
   "metadata": {},
   "outputs": [
    {
     "name": "stdout",
     "output_type": "stream",
     "text": [
      "True\n"
     ]
    }
   ],
   "source": [
    "def isPhoneNumber(text):\n",
    "    if len(text)!= 12:\n",
    "        return False\n",
    "    if not text[:3].isdecimal() :\n",
    "        return False\n",
    "    if text[3]!= '-':\n",
    "        return False\n",
    "    if not text[4:7].isdecimal():\n",
    "        return False\n",
    "    if text[7]!= '-':\n",
    "        return False\n",
    "    if not text[8:].isdecimal():\n",
    "        return False\n",
    "    return True\n",
    "\n",
    "print(isPhoneNumber('415-555-4242'))"
   ]
  },
  {
   "cell_type": "markdown",
   "metadata": {},
   "source": [
    "必须添加更多代码，才能在更长的字符串中寻找这种文本模式。用下面的代码，\n",
    "替代isPhoneNumber.py 中最后4 个print()函数调用："
   ]
  },
  {
   "cell_type": "code",
   "execution_count": 4,
   "metadata": {},
   "outputs": [
    {
     "name": "stdout",
     "output_type": "stream",
     "text": [
      "Phone number found: 415-555-1011\n",
      "Phone number found: 415-555-9999\n",
      "Done\n"
     ]
    }
   ],
   "source": [
    "message = 'Call me at 415-555-1011 tomorrow. 415-555-9999 is my office.'\n",
    "for i in range(len(message)):\n",
    "    chunk = message[i:i+12]\n",
    "    if isPhoneNumber(chunk):\n",
    "        print('Phone number found: ' + chunk)\n",
    "print('Done')"
   ]
  },
  {
   "cell_type": "markdown",
   "metadata": {},
   "source": [
    "# 用正则表达式查找文本模式\n",
    "正则表达式，简称为regex，是文本模式的描述方法。**例如，\\d 是一个正则表\n",
    "达式，表示一位数字字符，即任何一位 0 到 9 的数字**。Python 使用正则表达式\n",
    "\\d\\d\\d-\\d\\d\\d-\\d\\d\\d\\d，来匹配前面isPhoneNumber()函数匹配的同样文本：3 个数字、\n",
    "一个短横线、3 个数字、一个短横线、4 个数字。所有其他字符串都不能匹配\n",
    "\\d\\d\\d-\\d\\d\\d-\\d\\d\\d\\d 正则表达式。\n",
    "\n",
    "但正则表达式可以复杂得多。例如，在一个模式后加上花括号包围的3（{3}），\n",
    "就是说，“匹配这个模式3 次”。所以较短的正则表达式\\d{3}-\\d{3}-\\d{4}，也匹配正\n",
    "确的电话号码格式。"
   ]
  },
  {
   "cell_type": "markdown",
   "metadata": {},
   "source": [
    "## 创建正则表达式对象\n",
    "向`re.compile()`传入一个字符串值，表示正则表达式，它将返回一个Regex 模式\n",
    "对象（或者就简称为Regex 对象）。创建一个Regex 对象来匹配电话号码模式:"
   ]
  },
  {
   "cell_type": "code",
   "execution_count": 1,
   "metadata": {},
   "outputs": [],
   "source": [
    "import re\n",
    "phoneNumberRegex = re.compile(r'\\d\\d\\d-\\d\\d\\d-\\d\\d\\d\\d')"
   ]
  },
  {
   "cell_type": "markdown",
   "metadata": {},
   "source": [
    "## 匹配Regex对象"
   ]
  },
  {
   "cell_type": "code",
   "execution_count": 6,
   "metadata": {},
   "outputs": [
    {
     "data": {
      "text/plain": [
       "'415-555-1011'"
      ]
     },
     "execution_count": 6,
     "metadata": {},
     "output_type": "execute_result"
    }
   ],
   "source": [
    "mo = phoneNumberRegex.search('Call me at 415-555-1011 tomorrow.')\n",
    "mo.group() "
   ]
  },
  {
   "cell_type": "markdown",
   "metadata": {},
   "source": [
    "# 用正则表达式匹配更多模式"
   ]
  },
  {
   "cell_type": "markdown",
   "metadata": {},
   "source": [
    "## 利用括号分组\n",
    "假定想要将区号从电话号码中分离。添加括号将在正则表达式中创建“分组”：\n",
    "(\\d\\d\\d)-(\\d\\d\\d-\\d\\d\\d\\d)。然后可以使用group()匹配对象方法，从一个分组中获取匹\n",
    "配的文本。\n",
    "\n",
    "正则表达式字符串中的第一对括号是第1 组。第二对括号是第2 组。向group()\n",
    "匹配对象方法传入整数1 或2，就可以取得匹配文本的不同部分。向group()方法传\n",
    "入0 或不传入参数，将返回整个匹配的文本。"
   ]
  },
  {
   "cell_type": "code",
   "execution_count": 7,
   "metadata": {},
   "outputs": [
    {
     "data": {
      "text/plain": [
       "'415'"
      ]
     },
     "execution_count": 7,
     "metadata": {},
     "output_type": "execute_result"
    }
   ],
   "source": [
    "phoneNumRegex = re.compile(r'(\\d\\d\\d)-(\\d\\d\\d-\\d\\d\\d\\d)')\n",
    "mo = phoneNumRegex.search('My number is 415-555-4242.')\n",
    "mo.group(1)"
   ]
  },
  {
   "cell_type": "code",
   "execution_count": 11,
   "metadata": {},
   "outputs": [
    {
     "data": {
      "text/plain": [
       "'415-555-4242'"
      ]
     },
     "execution_count": 11,
     "metadata": {},
     "output_type": "execute_result"
    }
   ],
   "source": [
    "mo.group(0)"
   ]
  },
  {
   "cell_type": "code",
   "execution_count": 12,
   "metadata": {},
   "outputs": [
    {
     "data": {
      "text/plain": [
       "('415', '555-4242')"
      ]
     },
     "execution_count": 12,
     "metadata": {},
     "output_type": "execute_result"
    }
   ],
   "source": [
    "# 一次就获取所有的分组\n",
    "mo.groups()"
   ]
  },
  {
   "cell_type": "markdown",
   "metadata": {},
   "source": [
    "括号在正则表达式中有特殊的含义，但是如果你需要在文本中匹配括号，怎么\n",
    "办？例如，你要匹配的电话号码，可能将区号放在一对括号中。在这种情况下，就\n",
    "需要用倒斜杠对(和)进行字符转义。"
   ]
  },
  {
   "cell_type": "code",
   "execution_count": 15,
   "metadata": {},
   "outputs": [
    {
     "data": {
      "text/plain": [
       "'(415)'"
      ]
     },
     "execution_count": 15,
     "metadata": {},
     "output_type": "execute_result"
    }
   ],
   "source": [
    "phoneNumRegex = re.compile(r'(\\(\\d\\d\\d\\)) (\\d\\d\\d-\\d\\d\\d\\d)')\n",
    "mo = phoneNumRegex.search('My phone number is (415) 555-4242.')\n",
    "mo.group(1)"
   ]
  },
  {
   "cell_type": "markdown",
   "metadata": {},
   "source": [
    "## 用管道匹配多个分组\n",
    "字符`|`称为“**管道**”。希望匹配许多表达式中的一个时，就可以使用它。例如，\n",
    "正则表达式`r'Batman|Tina Fey'`将匹配'Batman'或'Tina Fey'。"
   ]
  },
  {
   "cell_type": "code",
   "execution_count": 16,
   "metadata": {},
   "outputs": [
    {
     "data": {
      "text/plain": [
       "'Batman'"
      ]
     },
     "execution_count": 16,
     "metadata": {},
     "output_type": "execute_result"
    }
   ],
   "source": [
    "heroRegex = re.compile (r'Batman|Tina Fey')\n",
    "mo1 = heroRegex.search('Batman and Tina Fey.')\n",
    "mo1.group() # 利用findall()方法，可以找到“所有”匹配的地方。"
   ]
  },
  {
   "cell_type": "code",
   "execution_count": 17,
   "metadata": {},
   "outputs": [
    {
     "data": {
      "text/plain": [
       "'Tina Fey'"
      ]
     },
     "execution_count": 17,
     "metadata": {},
     "output_type": "execute_result"
    }
   ],
   "source": [
    "mo2 = heroRegex.search('Tina Fey and Batman.')\n",
    "mo2.group()"
   ]
  },
  {
   "cell_type": "markdown",
   "metadata": {},
   "source": [
    "也可以使用管道来匹配多个模式中的一个，作为正则表达式的一部分。假设你希望匹配'Batman'、'Batmobile'、'Batcopter'和'Batbat'中任意一个。因为所有这\n",
    "些字符串都以Bat 开始，所以如果能够只指定一次前缀非常方便，可以通过括\n",
    "号实现。"
   ]
  },
  {
   "cell_type": "code",
   "execution_count": 18,
   "metadata": {},
   "outputs": [
    {
     "data": {
      "text/plain": [
       "'Batmobile'"
      ]
     },
     "execution_count": 18,
     "metadata": {},
     "output_type": "execute_result"
    }
   ],
   "source": [
    "batRegex = re.compile(r'Bat(man|mobile|copter|bat)')\n",
    "mo = batRegex.search('Batmobile lost a wheel')\n",
    "mo.group()"
   ]
  },
  {
   "cell_type": "code",
   "execution_count": 20,
   "metadata": {},
   "outputs": [
    {
     "data": {
      "text/plain": [
       "'mobile'"
      ]
     },
     "execution_count": 20,
     "metadata": {},
     "output_type": "execute_result"
    }
   ],
   "source": [
    "mo.group(1)"
   ]
  },
  {
   "cell_type": "markdown",
   "metadata": {},
   "source": [
    "方法调用mo.group()返回了完全匹配的文本'Batmobile'，而mo.group(1)只是返\n",
    "回第一个括号分组内匹配的文本'mobile'。通过使用管道字符和分组括号，可以指定\n",
    "几种可选的模式，让正则表达式去匹配。"
   ]
  },
  {
   "cell_type": "markdown",
   "metadata": {},
   "source": [
    "## 用问号实现可选匹配\n",
    "想匹配的模式是可选的。就是说，不论这段文本在不在，正则表达式\n",
    "都会认为匹配。**字符?表明它前面的分组在这个模式中是可选的。**"
   ]
  },
  {
   "cell_type": "code",
   "execution_count": 21,
   "metadata": {},
   "outputs": [
    {
     "data": {
      "text/plain": [
       "'Batman'"
      ]
     },
     "execution_count": 21,
     "metadata": {},
     "output_type": "execute_result"
    }
   ],
   "source": [
    "batRegex = re.compile(r'Bat(wo)?man')\n",
    "mo1 = batRegex.search('The Adventures of Batman')\n",
    "mo1.group()"
   ]
  },
  {
   "cell_type": "code",
   "execution_count": 22,
   "metadata": {},
   "outputs": [
    {
     "data": {
      "text/plain": [
       "'Batwoman'"
      ]
     },
     "execution_count": 22,
     "metadata": {},
     "output_type": "execute_result"
    }
   ],
   "source": [
    "mo2 = batRegex.search('The Adventures of Batwoman')\n",
    "mo2.group()"
   ]
  },
  {
   "cell_type": "code",
   "execution_count": 24,
   "metadata": {},
   "outputs": [
    {
     "data": {
      "text/plain": [
       "('wo',)"
      ]
     },
     "execution_count": 24,
     "metadata": {},
     "output_type": "execute_result"
    }
   ],
   "source": [
    "mo2.groups()"
   ]
  },
  {
   "cell_type": "markdown",
   "metadata": {},
   "source": [
    "## 用星号匹配零次或多次\n",
    "\\*（称为星号）意味着“匹配零次或多次”，即星号之前的分组，可以在文本中出现任意次。。它可以完全不存在，或一次又一次地重复。"
   ]
  },
  {
   "cell_type": "code",
   "execution_count": 28,
   "metadata": {},
   "outputs": [
    {
     "data": {
      "text/plain": [
       "'Batman'"
      ]
     },
     "execution_count": 28,
     "metadata": {},
     "output_type": "execute_result"
    }
   ],
   "source": [
    "batRegex = re.compile(r'Bat(wo)*man')\n",
    "mo1 = batRegex.search('The Adventures of Batman')\n",
    "mo1.group()"
   ]
  },
  {
   "cell_type": "code",
   "execution_count": 29,
   "metadata": {},
   "outputs": [
    {
     "data": {
      "text/plain": [
       "'Batwowowowoman'"
      ]
     },
     "execution_count": 29,
     "metadata": {},
     "output_type": "execute_result"
    }
   ],
   "source": [
    "mo3 = batRegex.search('The Adventures of Batwowowowoman')\n",
    "mo3.group()"
   ]
  },
  {
   "cell_type": "code",
   "execution_count": 30,
   "metadata": {},
   "outputs": [
    {
     "data": {
      "text/plain": [
       "('wo',)"
      ]
     },
     "execution_count": 30,
     "metadata": {},
     "output_type": "execute_result"
    }
   ],
   "source": [
    "mo3.groups()"
   ]
  },
  {
   "cell_type": "markdown",
   "metadata": {},
   "source": [
    "## 用加号匹配一次或多次\n",
    "星号不要求分组出现在匹配的字符串中，但加号不同，加号前面的分组必须“至少出现一次”。这不\n",
    "是可选的。"
   ]
  },
  {
   "cell_type": "code",
   "execution_count": 32,
   "metadata": {},
   "outputs": [
    {
     "data": {
      "text/plain": [
       "'Batwoman'"
      ]
     },
     "execution_count": 32,
     "metadata": {},
     "output_type": "execute_result"
    }
   ],
   "source": [
    "batRegex = re.compile(r'Bat(wo)+man')\n",
    "mo1 = batRegex.search('The Adventures of Batwoman')\n",
    "mo1.group()"
   ]
  },
  {
   "cell_type": "code",
   "execution_count": 33,
   "metadata": {},
   "outputs": [
    {
     "data": {
      "text/plain": [
       "'Batwowowowoman'"
      ]
     },
     "execution_count": 33,
     "metadata": {},
     "output_type": "execute_result"
    }
   ],
   "source": [
    "mo2 = batRegex.search('The Adventures of Batwowowowoman')\n",
    "mo2.group()"
   ]
  },
  {
   "cell_type": "code",
   "execution_count": 34,
   "metadata": {},
   "outputs": [
    {
     "data": {
      "text/plain": [
       "True"
      ]
     },
     "execution_count": 34,
     "metadata": {},
     "output_type": "execute_result"
    }
   ],
   "source": [
    "# 正则表达式Bat(wo)+man 不会匹配字符串，因为加号要求wo 至少出现一次。\n",
    "mo3 = batRegex.search('The Adventures of Batman')\n",
    "mo3 == None"
   ]
  },
  {
   "cell_type": "markdown",
   "metadata": {},
   "source": [
    "## 用花括号匹配特定次数\n",
    "如果想要一个分组重复特定次数，就在正则表达式中该分组的后面，跟上花括\n",
    "号包围的数字。例如，正则表达式(Ha){3}将匹配字符串'HaHaHa'，但不会匹配'HaHa'，\n",
    "因为后者只重复了(Ha)分组两次。\n",
    "\n",
    "除了一个数字，还可以指定一个范围，即在花括号中写下一个最小值、一个逗号和\n",
    "一个最大值。例如，正则表达式(Ha){3,5}将匹配'HaHaHa'、'HaHaHaHa'和'HaHaHaHaHa'。\n",
    "\n",
    "也可以不写花括号中的第一个或第二个数字，不限定最小值或最大值。(Ha){3,}将匹配3 次或更多次实例，(Ha){,5}将匹配0 到5 次实例。花括号让正则表\n",
    "达式更简短。"
   ]
  },
  {
   "cell_type": "code",
   "execution_count": 35,
   "metadata": {},
   "outputs": [
    {
     "data": {
      "text/plain": [
       "'HaHaHa'"
      ]
     },
     "execution_count": 35,
     "metadata": {},
     "output_type": "execute_result"
    }
   ],
   "source": [
    "haRegex = re.compile(r'(Ha){3}')\n",
    "mo1 = haRegex.search('HaHaHa')\n",
    "mo1.group()"
   ]
  },
  {
   "cell_type": "code",
   "execution_count": 36,
   "metadata": {},
   "outputs": [
    {
     "data": {
      "text/plain": [
       "True"
      ]
     },
     "execution_count": 36,
     "metadata": {},
     "output_type": "execute_result"
    }
   ],
   "source": [
    "mo2 = haRegex.search('HaHa')\n",
    "mo2 == None"
   ]
  },
  {
   "cell_type": "markdown",
   "metadata": {},
   "source": [
    "# 贪心和非贪心匹配\n",
    "在字符串'HaHaHaHaHa'中，因为(Ha){3,5}可以匹配3 个、4 个或5 个实例，你可能\n",
    "会想，为什么在前面花括号的例子中，Match 对象的group()调用会返回'HaHaHaHaHa'，\n",
    "而不是更短的可能结果。毕竟，'HaHaHa'和'HaHaHaHa'也能够有效地匹配正则表达\n",
    "式(Ha){3,5}。\n",
    "\n",
    "Python 的正则表达式默认是“**贪心**”的，这表示**在有二义的情况下，它们会尽\n",
    "可能匹配最长的字符串**。花括号的“**非贪心**”版本**匹配尽可能最短的字符串**，即在\n",
    "结束的花括号后跟着一个问号。"
   ]
  },
  {
   "cell_type": "code",
   "execution_count": 37,
   "metadata": {},
   "outputs": [
    {
     "data": {
      "text/plain": [
       "'HaHaHaHaHa'"
      ]
     },
     "execution_count": 37,
     "metadata": {},
     "output_type": "execute_result"
    }
   ],
   "source": [
    "greedyRegex = re.compile(r'(Ha){3,5}')\n",
    "mo1 = greedyRegex.search('HaHaHaHaHa')\n",
    "mo1.group()"
   ]
  },
  {
   "cell_type": "code",
   "execution_count": 38,
   "metadata": {},
   "outputs": [
    {
     "data": {
      "text/plain": [
       "'HaHaHa'"
      ]
     },
     "execution_count": 38,
     "metadata": {},
     "output_type": "execute_result"
    }
   ],
   "source": [
    "nongreedyHaRegex = re.compile(r'(Ha){3,5}?')\n",
    "mo2 = nongreedyHaRegex.search('HaHaHaHaHa')\n",
    "mo2.group()"
   ]
  },
  {
   "cell_type": "markdown",
   "metadata": {},
   "source": [
    "请注意，问号在正则表达式中可能有两种含义：声明非贪心匹配或表示可选的\n",
    "分组。这两种含义是完全无关的。"
   ]
  },
  {
   "cell_type": "markdown",
   "metadata": {},
   "source": [
    "# findall()方法\n",
    "除了search 方法外，Regex 对象也有一个findall()方法。search()将返回一个Match\n",
    "对象，包含被查找字符串中的“第一次”匹配的文本，而findall()方法将返回一组\n",
    "字符串，包含被查找字符串中的所有匹配。search()返回的Match 对象只\n",
    "包含第一次出现的匹配文本。"
   ]
  },
  {
   "cell_type": "code",
   "execution_count": 39,
   "metadata": {},
   "outputs": [
    {
     "data": {
      "text/plain": [
       "'415-555-9999'"
      ]
     },
     "execution_count": 39,
     "metadata": {},
     "output_type": "execute_result"
    }
   ],
   "source": [
    "phoneNumRegex = re.compile(r'\\d\\d\\d-\\d\\d\\d-\\d\\d\\d\\d')\n",
    "mo = phoneNumRegex.search('Cell: 415-555-9999 Work: 212-555-0000')\n",
    "mo.group()"
   ]
  },
  {
   "cell_type": "markdown",
   "metadata": {},
   "source": [
    "findall()不是返回一个Match 对象，而是返回一个字符串列表，只要\n",
    "在正则表达式中没有分组。列表中的每个字符串都是一段被查找的文本，它匹配该\n",
    "正则表达式。"
   ]
  },
  {
   "cell_type": "code",
   "execution_count": 40,
   "metadata": {},
   "outputs": [
    {
     "data": {
      "text/plain": [
       "['415-555-9999', '212-555-0000']"
      ]
     },
     "execution_count": 40,
     "metadata": {},
     "output_type": "execute_result"
    }
   ],
   "source": [
    "phoneNumRegex = re.compile(r'\\d\\d\\d-\\d\\d\\d-\\d\\d\\d\\d')\n",
    "phoneNumRegex.findall('Cell: 415-555-9999 Work: 212-555-0000')"
   ]
  },
  {
   "cell_type": "markdown",
   "metadata": {},
   "source": [
    "如果在正则表达式中有分组，那么findall 将返回元组的列表。每个元组表示一个找\n",
    "到的匹配，其中的项就是正则表达式中每个分组的匹配字符串"
   ]
  },
  {
   "cell_type": "code",
   "execution_count": 42,
   "metadata": {},
   "outputs": [
    {
     "data": {
      "text/plain": [
       "[('415', '555', '9999'), ('212', '555', '0000')]"
      ]
     },
     "execution_count": 42,
     "metadata": {},
     "output_type": "execute_result"
    }
   ],
   "source": [
    "phoneNumRegex = re.compile(r'(\\d\\d\\d)-(\\d\\d\\d)-(\\d\\d\\d\\d)') # has groups\n",
    "phoneNumRegex.findall('Cell: 415-555-9999 Work: 212-555-0000')"
   ]
  },
  {
   "cell_type": "markdown",
   "metadata": {},
   "source": [
    "# 字符分类\n",
    "在前面电话号码正则表达式的例子中，你知道\\d 可以代表任何数字。也就是说，\\d\n",
    "是正则表达式(0|1|2|3|4|5|6|7|8|9)的缩写。有许多这样的“缩写字符分类”\n",
    "\n",
    "\n",
    "\n",
    "| 编写字符分类 | 表示                                                   |\n",
    "| ------------ | ------------------------------------------------------ |\n",
    "| \\d           | 0到9的任何数字                                         |\n",
    "| \\D           | 除0 到9 的数字以外的任何字符                           |\n",
    "| \\w           | 任何字母、数字或下划线字符（可以认为是匹配“单词”字符） |\n",
    "| \\W           | 除字母、数字和下划线以外的任何字符                     |\n",
    "| \\s           | 空格、制表符或换行符（可以认为是匹配“空白”字符）       |\n",
    "| \\S           | 除空格、制表符和换行符以外的任何字符                   |\n",
    "\n"
   ]
  },
  {
   "cell_type": "code",
   "execution_count": 49,
   "metadata": {},
   "outputs": [
    {
     "data": {
      "text/plain": [
       "['12 drummers',\n",
       " '11 pipers',\n",
       " '10 lords',\n",
       " '9 ladies',\n",
       " '8 maids',\n",
       " '7 swans',\n",
       " '6 geese',\n",
       " '5 rings',\n",
       " '4 birds',\n",
       " '3 hens',\n",
       " '2 doves',\n",
       " '1 partridge']"
      ]
     },
     "execution_count": 49,
     "metadata": {},
     "output_type": "execute_result"
    }
   ],
   "source": [
    "xmasRegex = re.compile(r'\\d+\\s\\w+')\n",
    "xmasRegex.findall('12 drummers, 11 pipers, 10 lords, 9 ladies, 8 maids, 7 swans, 6 geese, 5 rings, 4 birds, 3 hens, 2 doves, 1 partridge')"
   ]
  },
  {
   "cell_type": "markdown",
   "metadata": {},
   "source": [
    "# 建立自己的字符分类\n",
    "有时候你想匹配一组字符，但缩写的字符分类（\\d、\\w、\\s 等）太宽泛。你可\n",
    "以用**方括号**定义自己的字符分类。例如，字符分类[aeiouAEIOU]将匹配所有元音字\n",
    "符，不论大小写。"
   ]
  },
  {
   "cell_type": "code",
   "execution_count": 50,
   "metadata": {},
   "outputs": [
    {
     "data": {
      "text/plain": [
       "['o', 'o', 'o', 'e', 'a', 'a', 'o', 'o', 'A', 'O', 'O']"
      ]
     },
     "execution_count": 50,
     "metadata": {},
     "output_type": "execute_result"
    }
   ],
   "source": [
    "vowelRegex = re.compile(r'[aeiouAEIOU]')\n",
    "vowelRegex.findall('RoboCop eats baby food. BABY FOOD.')"
   ]
  },
  {
   "cell_type": "markdown",
   "metadata": {},
   "source": [
    "也可以使用短横表示字母或数字的范围。例如，字符分类[a-zA-Z0-9]将匹配所\n",
    "有小写字母、大写字母和数字。\n",
    "\n",
    "请注意，在方括号内，普通的正则表达式符号不会被解释。这意味着，你不需\n",
    "要前面加上倒斜杠转义.、*、?或()字符。例如，字符分类将匹配数字0 到5 和一个\n",
    "句点。你不需要将它写成[0-5\\.]。\n",
    "\n",
    "通过在字符分类的**左方括号后加上一个插入字符（^）**，就可以得到“**非字符类**”。\n",
    "非字符类将匹配不在这个字符类中的所有字符。"
   ]
  },
  {
   "cell_type": "code",
   "execution_count": 51,
   "metadata": {},
   "outputs": [
    {
     "data": {
      "text/plain": [
       "['R',\n",
       " 'b',\n",
       " 'C',\n",
       " 'p',\n",
       " ' ',\n",
       " 't',\n",
       " 's',\n",
       " ' ',\n",
       " 'b',\n",
       " 'b',\n",
       " 'y',\n",
       " ' ',\n",
       " 'f',\n",
       " 'd',\n",
       " '.',\n",
       " ' ',\n",
       " 'B',\n",
       " 'B',\n",
       " 'Y',\n",
       " ' ',\n",
       " 'F',\n",
       " 'D',\n",
       " '.']"
      ]
     },
     "execution_count": 51,
     "metadata": {},
     "output_type": "execute_result"
    }
   ],
   "source": [
    "consonantRegex = re.compile(r'[^aeiouAEIOU]')\n",
    "consonantRegex.findall('RoboCop eats baby food. BABY FOOD.')"
   ]
  },
  {
   "cell_type": "markdown",
   "metadata": {},
   "source": [
    "# 插入字符和美元字符\n",
    "可以在正则表达式的开始处使用插入符号（`^`），表明匹配必须发生在被查找文本开始处。类似地，可以再正则表达式的末尾加上美元符号（`$`），表示该字符串必须以这个正则表达式的模式结束。\n",
    "\n",
    "可以同时使用`^`和`$`，表明整个字符串必须匹配该模式，也就是说，只匹配该字符串的某个子集是不够的。"
   ]
  },
  {
   "cell_type": "code",
   "execution_count": 56,
   "metadata": {},
   "outputs": [
    {
     "data": {
      "text/plain": [
       "<_sre.SRE_Match object; span=(0, 5), match='Hello'>"
      ]
     },
     "execution_count": 56,
     "metadata": {},
     "output_type": "execute_result"
    }
   ],
   "source": [
    "# '匹配以'Hello'开始的字符串\n",
    "beginsWithHello = re.compile(r'^Hello')\n",
    "beginsWithHello.search('Hello World!')"
   ]
  },
  {
   "cell_type": "code",
   "execution_count": 57,
   "metadata": {},
   "outputs": [
    {
     "data": {
      "text/plain": [
       "True"
      ]
     },
     "execution_count": 57,
     "metadata": {},
     "output_type": "execute_result"
    }
   ],
   "source": [
    "beginsWithHello.search('He said hello.') == None"
   ]
  },
  {
   "cell_type": "markdown",
   "metadata": {},
   "source": [
    "正则表达式r'\\d$'匹配以数字0 到9 结束的字符串。"
   ]
  },
  {
   "cell_type": "code",
   "execution_count": 59,
   "metadata": {},
   "outputs": [
    {
     "data": {
      "text/plain": [
       "<_sre.SRE_Match object; span=(16, 17), match='2'>"
      ]
     },
     "execution_count": 59,
     "metadata": {},
     "output_type": "execute_result"
    }
   ],
   "source": [
    "endWithNumber = re.compile(r'\\d$')\n",
    "endWithNumber.search('your number is 42')"
   ]
  },
  {
   "cell_type": "code",
   "execution_count": 60,
   "metadata": {},
   "outputs": [
    {
     "data": {
      "text/plain": [
       "True"
      ]
     },
     "execution_count": 60,
     "metadata": {},
     "output_type": "execute_result"
    }
   ],
   "source": [
    "endWithNumber.search('Your number is forty two.') == None"
   ]
  },
  {
   "cell_type": "markdown",
   "metadata": {},
   "source": [
    "正则表达式r'^\\d+$'匹配从开始到结束都是数字的字符串。"
   ]
  },
  {
   "cell_type": "code",
   "execution_count": 61,
   "metadata": {},
   "outputs": [
    {
     "data": {
      "text/plain": [
       "<_sre.SRE_Match object; span=(0, 10), match='1234567890'>"
      ]
     },
     "execution_count": 61,
     "metadata": {},
     "output_type": "execute_result"
    }
   ],
   "source": [
    "wholeStringIsNum = re.compile(r'^\\d+$')\n",
    "wholeStringIsNum.search('1234567890')"
   ]
  },
  {
   "cell_type": "code",
   "execution_count": 62,
   "metadata": {},
   "outputs": [
    {
     "data": {
      "text/plain": [
       "True"
      ]
     },
     "execution_count": 62,
     "metadata": {},
     "output_type": "execute_result"
    }
   ],
   "source": [
    "wholeStringIsNum.search('12345xyz67890') == None"
   ]
  },
  {
   "cell_type": "markdown",
   "metadata": {},
   "source": [
    "# 通配字符\n",
    "在正则表达式中，.（句点）字符称为“通配符”。它匹配除了换行之外的所有字符。"
   ]
  },
  {
   "cell_type": "code",
   "execution_count": 63,
   "metadata": {},
   "outputs": [
    {
     "data": {
      "text/plain": [
       "['cat', 'hat', 'sat', 'lat', 'mat']"
      ]
     },
     "execution_count": 63,
     "metadata": {},
     "output_type": "execute_result"
    }
   ],
   "source": [
    "atRegex = re.compile(r'.at')\n",
    "atRegex.findall('The cat in the hat sat on the flat mat.')"
   ]
  },
  {
   "cell_type": "markdown",
   "metadata": {},
   "source": [
    "## 用点-星匹配所有字符\n",
    "有时候想要匹配所有字符串。例如，假定想要匹配字符串'First Name:'，接下来\n",
    "是任意文本，接下来是'Last Name:'，然后又是任意文本。可以用点-星（.*）表示“任\n",
    "意文本”。回忆一下，句点字符表示“除换行外所有单个字符”，星号字符表示“前\n",
    "面字符出现零次或多次”。"
   ]
  },
  {
   "cell_type": "code",
   "execution_count": 64,
   "metadata": {},
   "outputs": [
    {
     "data": {
      "text/plain": [
       "('Al', 'Sweigart')"
      ]
     },
     "execution_count": 64,
     "metadata": {},
     "output_type": "execute_result"
    }
   ],
   "source": [
    "nameRegex = re.compile(r'First Name: (.*) Last Name: (.*)')\n",
    "mo = nameRegex.search('First Name: Al Last Name: Sweigart')\n",
    "mo.groups()"
   ]
  },
  {
   "cell_type": "markdown",
   "metadata": {},
   "source": [
    "点-星使用“贪心”模式：它总是匹配尽可能多的文本。要用“非贪心”模式匹配\n",
    "所有文本，就使用点-星和问号。像和大括号一起使用时那样，问号告诉Python 用非贪\n",
    "心模式匹配。在"
   ]
  },
  {
   "cell_type": "code",
   "execution_count": 75,
   "metadata": {},
   "outputs": [
    {
     "data": {
      "text/plain": [
       "'<To serve man>'"
      ]
     },
     "execution_count": 75,
     "metadata": {},
     "output_type": "execute_result"
    }
   ],
   "source": [
    "nongreedyRegex = re.compile(r'<.*?>')\n",
    "mo = nongreedyRegex.search('<To serve man> for dinner.>')\n",
    "mo.group()"
   ]
  },
  {
   "cell_type": "code",
   "execution_count": 76,
   "metadata": {},
   "outputs": [
    {
     "data": {
      "text/plain": [
       "'<To serve man> for dinner.>'"
      ]
     },
     "execution_count": 76,
     "metadata": {},
     "output_type": "execute_result"
    }
   ],
   "source": [
    "greedyRegex = re.compile(r'<.*>')\n",
    "mo = greedyRegex.search('<To serve man> for dinner.>')\n",
    "mo.group()"
   ]
  },
  {
   "cell_type": "markdown",
   "metadata": {},
   "source": [
    "## 用句点字符匹配换行\n",
    "\n",
    "点-星将匹配除换行外的所有字符。通过传入re.DOTALL 作为re.compile()的第\n",
    "二个参数，可以让句点字符匹配所有字符，包括换行字符。"
   ]
  },
  {
   "cell_type": "code",
   "execution_count": 77,
   "metadata": {},
   "outputs": [
    {
     "data": {
      "text/plain": [
       "'Serve the public trust.'"
      ]
     },
     "execution_count": 77,
     "metadata": {},
     "output_type": "execute_result"
    }
   ],
   "source": [
    "noNewlineRegex = re.compile('.*')\n",
    "noNewlineRegex.search('Serve the public trust.\\nProtect the innocent.\\nUphold the law.').group()"
   ]
  },
  {
   "cell_type": "code",
   "execution_count": 78,
   "metadata": {},
   "outputs": [
    {
     "data": {
      "text/plain": [
       "'Serve the public trust.\\nProtect the innocent.\\nUphold the law.'"
      ]
     },
     "execution_count": 78,
     "metadata": {},
     "output_type": "execute_result"
    }
   ],
   "source": [
    "newlineRegex = re.compile('.*', re.DOTALL)\n",
    "newlineRegex.search('Serve the public trust.\\nProtect the innocent.\\nUphold the law.').group()"
   ]
  },
  {
   "cell_type": "markdown",
   "metadata": {},
   "source": [
    "正则表达式noNewlineRegex 在创建时没有向re.compile()传入re.DOTALL，它\n",
    "将匹配所有字符，直到第一个换行字符。但是，newlineRegex 在创建时向re.compile()传\n",
    "入了re.DOTALL，它将匹配所有字符。这就是为什么newlineRegex.search()调用匹配完\n",
    "整的字符串，包括其中的换行字符。"
   ]
  },
  {
   "cell_type": "markdown",
   "metadata": {},
   "source": [
    "# 复习\n",
    "- ?匹配零次或一次前面的分组。\n",
    "- *匹配零次或多次前面的分组。\n",
    "- +匹配一次或多次前面的分组。\n",
    "- {n}匹配n 次前面的分组。\n",
    "- {n,}匹配n 次或更多前面的分组。\n",
    "- {,m}匹配零次到m 次前面的分组。\n",
    "- {n,m}匹配至少n 次、至多m 次前面的分组。\n",
    "- {n,m}?或*?或+?对前面的分组进行非贪心匹配。\n",
    "- ^spam 意味着字符串必须以spam 开始。\n",
    "- spam$意味着字符串必须以spam 结束。\n",
    "- .匹配所有字符，换行符除外。\n",
    "- \\d、\\w 和\\s 分别匹配数字、单词和空格。\n",
    "- \\D、\\W 和\\S 分别匹配出数字、单词和空格外的所有字符。\n",
    "- [abc]匹配方括号内的任意字符（诸如a、b 或c）。\n",
    "- [^abc]匹配不在方括号内的任意字符。"
   ]
  },
  {
   "cell_type": "markdown",
   "metadata": {},
   "source": [
    "# 不区分大小写的匹配\n",
    "有时候你只关心匹配字母，不关心它们是大写或小写。要让正则表达式\n",
    "不区分大小写，可以向re.compile()传入re.IGNORECASE 或re.I，作为第二个参数。"
   ]
  },
  {
   "cell_type": "code",
   "execution_count": 79,
   "metadata": {},
   "outputs": [
    {
     "data": {
      "text/plain": [
       "'RoboCop'"
      ]
     },
     "execution_count": 79,
     "metadata": {},
     "output_type": "execute_result"
    }
   ],
   "source": [
    "robocop = re.compile(r'robocop', re.I)\n",
    "robocop.search('RoboCop is part man, part machine, all cop.').group()"
   ]
  },
  {
   "cell_type": "code",
   "execution_count": 80,
   "metadata": {},
   "outputs": [
    {
     "data": {
      "text/plain": [
       "'ROBOCOP'"
      ]
     },
     "execution_count": 80,
     "metadata": {},
     "output_type": "execute_result"
    }
   ],
   "source": [
    "robocop.search('ROBOCOP protects the innocent.').group()"
   ]
  },
  {
   "cell_type": "code",
   "execution_count": 81,
   "metadata": {},
   "outputs": [
    {
     "data": {
      "text/plain": [
       "'robocop'"
      ]
     },
     "execution_count": 81,
     "metadata": {},
     "output_type": "execute_result"
    }
   ],
   "source": [
    "robocop.search('Al, why does your programming book talk about robocop so much?').group()"
   ]
  },
  {
   "cell_type": "markdown",
   "metadata": {},
   "source": [
    "# 用sub()方法替换字符串"
   ]
  },
  {
   "cell_type": "markdown",
   "metadata": {},
   "source": [
    "正则表达式不仅能找到文本模式，而且能够用新的文本替换掉这些模式。Regex\n",
    "对象的sub()方法需要传入两个参数。\n",
    "\n",
    "第一个参数是一个字符串，用于取代发现的匹配。第二个参数是一个待替换的字符串。sub()方法返回替换完成后的字符串。"
   ]
  },
  {
   "cell_type": "code",
   "execution_count": 83,
   "metadata": {},
   "outputs": [
    {
     "data": {
      "text/plain": [
       "'CENSORED gave the secret documents to CENSORED.'"
      ]
     },
     "execution_count": 83,
     "metadata": {},
     "output_type": "execute_result"
    }
   ],
   "source": [
    "nameRegex = re.compile(r'Agent \\w+')\n",
    "nameRegex.sub('CENSORED', 'Agent Alice gave the secret documents to Agent Bob.')"
   ]
  },
  {
   "cell_type": "markdown",
   "metadata": {},
   "source": [
    "有时候，你可能需要使用匹配的文本本身，作为替换的一部分。在sub()的第一\n",
    "个参数中，可以输入\\1、\\2、\\3……。表示“在替换中输入分组1、2、3……的文本”。\n",
    "例如，假定想要隐去密探的姓名，只显示他们姓名的第一个字母。要做到这一\n",
    "点，可以使用正则表达式Agent (\\w)\\w*，传入r'\\1****'作为sub()的第一个参数。字\n",
    "符串中的\\1 将由分组1 匹配的文本所替代，也就是正则表达式的(\\w)分组。"
   ]
  },
  {
   "cell_type": "code",
   "execution_count": 86,
   "metadata": {},
   "outputs": [
    {
     "data": {
      "text/plain": [
       "'A**** told C**** that E**** knew B**** was a double agent.'"
      ]
     },
     "execution_count": 86,
     "metadata": {},
     "output_type": "execute_result"
    }
   ],
   "source": [
    "agentNamesRegex = re.compile(r'Agent (\\w)\\w*')\n",
    "agentNamesRegex.sub(r'\\1****', 'Agent Alice told Agent Carol that Agent Eve knew Agent Bob was a double agent.')"
   ]
  },
  {
   "cell_type": "markdown",
   "metadata": {},
   "source": [
    "# 管理复杂的正则表达式\n",
    "如果要匹配的文本模式很简单，正则表达式就很好。但匹配复杂的文本模式，\n",
    "可能需要长的、费解的正则表达式。你可以告诉`re.compile()`，**忽略正则表达式字符\n",
    "串中的空白符和注释**，从而缓解这一点。要实现这种详细模式，可以向re.compile()\n",
    "传入变量`re.VERBOSE`，作为第二个参数。\n",
    "\n",
    "你可以将正则表达式放在多行中，并加上注释，像这样："
   ]
  },
  {
   "cell_type": "code",
   "execution_count": 87,
   "metadata": {},
   "outputs": [],
   "source": [
    "phoneRegex = re.compile(r'''(\n",
    "    (\\d{3}|\\(\\d{3}\\))?  # area code\n",
    "    (\\s|-|\\.)?          # separator\n",
    "    \\d{3}               # first 3 digits\n",
    "    (\\s|-|\\.)           # separator\n",
    "    \\d{4}               # last 4 digits\n",
    "    (\\s*(ext|x|ext.)\\s*\\d{2,5})? # extension\n",
    "    )''', re.VERBOSE)"
   ]
  },
  {
   "cell_type": "markdown",
   "metadata": {},
   "source": [
    "请注意，前面的例子使用了三重引号('\")，创建了一个多行字符串。这样就可以\n",
    "将正则表达式定义放在多行中，让它更可读。\n",
    "\n",
    "正则表达式字符串中的注释规则，与普通的Python 代码一样：#符号和它后面直\n",
    "到行末的内容，都被忽略。而且，表示正则表达式的多行字符串中，多余的空白字符\n",
    "也不认为是要匹配的文本模式的一部分。这让你能够组织正则表达式，让它更可读。"
   ]
  },
  {
   "cell_type": "code",
   "execution_count": null,
   "metadata": {},
   "outputs": [],
   "source": []
  }
 ],
 "metadata": {
  "kernelspec": {
   "display_name": "Python 3",
   "language": "python",
   "name": "python3"
  },
  "language_info": {
   "codemirror_mode": {
    "name": "ipython",
    "version": 3
   },
   "file_extension": ".py",
   "mimetype": "text/x-python",
   "name": "python",
   "nbconvert_exporter": "python",
   "pygments_lexer": "ipython3",
   "version": "3.6.4"
  }
 },
 "nbformat": 4,
 "nbformat_minor": 2
}
